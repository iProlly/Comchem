{
  "cells": [
    {
      "cell_type": "markdown",
      "metadata": {
        "id": "view-in-github",
        "colab_type": "text"
      },
      "source": [
        "<a href=\"https://colab.research.google.com/github/iProlly/Comchem/blob/main/Oil_ML_Version_3.ipynb\" target=\"_parent\"><img src=\"https://colab.research.google.com/assets/colab-badge.svg\" alt=\"Open In Colab\"/></a>"
      ]
    },
    {
      "cell_type": "code",
      "source": [
        "import pandas as pd\n",
        "import numpy as np\n",
        "import tensorflow as tf\n",
        "from tensorflow.keras.utils import to_categorical\n",
        "from sklearn.model_selection import train_test_split\n",
        "from sklearn.preprocessing import LabelEncoder\n",
        "import os\n",
        "from google.colab import drive\n",
        "from random import randrange\n",
        "from sklearn.metrics import confusion_matrix, ConfusionMatrixDisplay\n",
        "import matplotlib.pyplot as plt\n",
        "import io"
      ],
      "metadata": {
        "id": "uXoxc8ZE6xcb"
      },
      "execution_count": 1,
      "outputs": []
    },
    {
      "cell_type": "code",
      "source": [
        "def augment_data_all(X, num_new_samples, noise_std=0.05):\n",
        "    n_samples = len(X)\n",
        "    X_augmented = []\n",
        "\n",
        "    for _ in range(num_new_samples):\n",
        "        # Generate random coefficients for all samples\n",
        "        coefficients = np.random.rand(n_samples)\n",
        "\n",
        "        # Normalize coefficients to sum to 1\n",
        "        coefficients /= np.sum(coefficients)\n",
        "\n",
        "        # Create the new sample as a weighted sum of all samples\n",
        "        new_sample = np.sum(coefficients[:, np.newaxis] * X, axis=0)\n",
        "\n",
        "        noise = np.random.normal(0, noise_std * (new_sample.max() - new_sample.min()), new_sample.shape)\n",
        "        new_sample += noise\n",
        "\n",
        "        # Renormalize to range [0, 10000]\n",
        "        new_sample = 10000 * (new_sample - new_sample.min()) / (new_sample.max() - new_sample.min())\n",
        "\n",
        "        X_augmented.append(new_sample)\n",
        "\n",
        "    return X_augmented"
      ],
      "metadata": {
        "id": "ly8aJQ-__qex"
      },
      "execution_count": 2,
      "outputs": []
    },
    {
      "cell_type": "code",
      "source": [
        "raw = pd.read_csv('/content/IR Combine.csv')\n",
        "\n",
        "testing_number = 400\n",
        "testing_data = []\n",
        "testing_labels = []\n",
        "data = []\n",
        "labels = []\n",
        "\n",
        "labels_raw = raw.iloc[:, 0].values\n",
        "data_raw = raw.iloc[:, 1:].values"
      ],
      "metadata": {
        "id": "Lcf3it5dBFMK"
      },
      "execution_count": 3,
      "outputs": []
    },
    {
      "cell_type": "code",
      "source": [
        "for i in range(np.unique(labels_raw).shape[0]):\n",
        "  data_temp = []\n",
        "  labels_temp = []\n",
        "  for j in range(labels_raw.shape[0]):\n",
        "    if np.unique(labels_raw)[i] == labels_raw[j]:\n",
        "      data_temp.append(data_raw[j])\n",
        "      labels_temp.append(labels_raw[j])\n",
        "\n",
        "  data_augmented = augment_data_all(data_temp, 292)\n",
        "  data_temp.extend(data_augmented)\n",
        "  labels_temp.extend(labels_temp[:1]*len(data_augmented))\n",
        "  data.extend(data_temp)\n",
        "  labels.extend(labels_temp)\n",
        "\n",
        "data = np.array(data)\n",
        "labels = np.array(labels)\n",
        "\n",
        "for k in range(testing_number):\n",
        "  random_index = randrange(len(data))\n",
        "  testing_labels.append(labels[random_index])\n",
        "  testing_data.append(data[random_index])\n",
        "  data = np.delete(data, random_index, 0)\n",
        "  labels = np.delete(labels, random_index, 0)\n",
        "\n",
        "testing_data = np.array(testing_data)\n",
        "testing_labels = np.array(testing_labels)\n",
        "\n",
        "# Encode labels\n",
        "label_encoder = LabelEncoder()\n",
        "labels_encoded = label_encoder.fit_transform(labels)\n",
        "labels_categorical = to_categorical(labels_encoded)"
      ],
      "metadata": {
        "id": "AHix-SLGwhSF"
      },
      "execution_count": 4,
      "outputs": []
    },
    {
      "cell_type": "code",
      "execution_count": 6,
      "metadata": {
        "id": "jk26U8o662HT"
      },
      "outputs": [],
      "source": [
        "# Split the data into training and testing sets\n",
        "X_train, X_test, y_train, y_test = train_test_split(data, labels_categorical, test_size=0.3, random_state=42)\n",
        "X_train = X_train[..., np.newaxis]  # Add channel dimension for CNN\n",
        "X_test = X_test[..., np.newaxis]\n",
        "testing_data = testing_data[..., np.newaxis]"
      ]
    },
    {
      "cell_type": "code",
      "execution_count": 7,
      "metadata": {
        "id": "G62XzE3x7dL5",
        "colab": {
          "base_uri": "https://localhost:8080/"
        },
        "outputId": "a476e150-36b9-4230-e992-ff17c73dd770"
      },
      "outputs": [
        {
          "output_type": "stream",
          "name": "stderr",
          "text": [
            "/usr/local/lib/python3.10/dist-packages/keras/src/layers/convolutional/base_conv.py:107: UserWarning: Do not pass an `input_shape`/`input_dim` argument to a layer. When using Sequential models, prefer using an `Input(shape)` object as the first layer in the model instead.\n",
            "  super().__init__(activity_regularizer=activity_regularizer, **kwargs)\n"
          ]
        }
      ],
      "source": [
        "model = tf.keras.Sequential([\n",
        "    tf.keras.layers.Conv1D(32, kernel_size=3, activation='relu', input_shape=(data.shape[1], 1)),\n",
        "    tf.keras.layers.MaxPooling1D(pool_size=2),\n",
        "    tf.keras.layers.Conv1D(64, kernel_size=3, activation='relu'),\n",
        "    tf.keras.layers.MaxPooling1D(pool_size=2),\n",
        "    tf.keras.layers.Flatten(),\n",
        "    tf.keras.layers.Dense(128, activation='relu'),\n",
        "    tf.keras.layers.Dense(len(label_encoder.classes_), activation='softmax')\n",
        "])\n",
        "\n",
        "model.compile(optimizer='adam', loss='categorical_crossentropy', metrics=['accuracy'])"
      ]
    },
    {
      "cell_type": "code",
      "execution_count": 8,
      "metadata": {
        "colab": {
          "base_uri": "https://localhost:8080/"
        },
        "id": "mFAQ3XK07gzt",
        "outputId": "15d93476-92cf-4d55-99d0-dadaa5243155"
      },
      "outputs": [
        {
          "output_type": "stream",
          "name": "stdout",
          "text": [
            "Epoch 1/10\n",
            "\u001b[1m44/44\u001b[0m \u001b[32m━━━━━━━━━━━━━━━━━━━━\u001b[0m\u001b[37m\u001b[0m \u001b[1m11s\u001b[0m 196ms/step - accuracy: 0.2486 - loss: 7158.2915 - val_accuracy: 0.9783 - val_loss: 0.0919\n",
            "Epoch 2/10\n",
            "\u001b[1m44/44\u001b[0m \u001b[32m━━━━━━━━━━━━━━━━━━━━\u001b[0m\u001b[37m\u001b[0m \u001b[1m6s\u001b[0m 130ms/step - accuracy: 0.9830 - loss: 0.0741 - val_accuracy: 0.9867 - val_loss: 0.0482\n",
            "Epoch 3/10\n",
            "\u001b[1m44/44\u001b[0m \u001b[32m━━━━━━━━━━━━━━━━━━━━\u001b[0m\u001b[37m\u001b[0m \u001b[1m12s\u001b[0m 164ms/step - accuracy: 0.9868 - loss: 0.0984 - val_accuracy: 0.9883 - val_loss: 0.0460\n",
            "Epoch 4/10\n",
            "\u001b[1m44/44\u001b[0m \u001b[32m━━━━━━━━━━━━━━━━━━━━\u001b[0m\u001b[37m\u001b[0m \u001b[1m6s\u001b[0m 140ms/step - accuracy: 0.9888 - loss: 0.0465 - val_accuracy: 0.9883 - val_loss: 0.0420\n",
            "Epoch 5/10\n",
            "\u001b[1m44/44\u001b[0m \u001b[32m━━━━━━━━━━━━━━━━━━━━\u001b[0m\u001b[37m\u001b[0m \u001b[1m10s\u001b[0m 143ms/step - accuracy: 0.9927 - loss: 0.0456 - val_accuracy: 0.9883 - val_loss: 0.0378\n",
            "Epoch 6/10\n",
            "\u001b[1m44/44\u001b[0m \u001b[32m━━━━━━━━━━━━━━━━━━━━\u001b[0m\u001b[37m\u001b[0m \u001b[1m10s\u001b[0m 133ms/step - accuracy: 0.9940 - loss: 0.0331 - val_accuracy: 0.9967 - val_loss: 0.0309\n",
            "Epoch 7/10\n",
            "\u001b[1m44/44\u001b[0m \u001b[32m━━━━━━━━━━━━━━━━━━━━\u001b[0m\u001b[37m\u001b[0m \u001b[1m13s\u001b[0m 188ms/step - accuracy: 0.9987 - loss: 0.0225 - val_accuracy: 1.0000 - val_loss: 0.0255\n",
            "Epoch 8/10\n",
            "\u001b[1m44/44\u001b[0m \u001b[32m━━━━━━━━━━━━━━━━━━━━\u001b[0m\u001b[37m\u001b[0m \u001b[1m8s\u001b[0m 133ms/step - accuracy: 0.9987 - loss: 0.0241 - val_accuracy: 1.0000 - val_loss: 0.0199\n",
            "Epoch 9/10\n",
            "\u001b[1m44/44\u001b[0m \u001b[32m━━━━━━━━━━━━━━━━━━━━\u001b[0m\u001b[37m\u001b[0m \u001b[1m8s\u001b[0m 178ms/step - accuracy: 0.9998 - loss: 0.0140 - val_accuracy: 1.0000 - val_loss: 0.0160\n",
            "Epoch 10/10\n",
            "\u001b[1m44/44\u001b[0m \u001b[32m━━━━━━━━━━━━━━━━━━━━\u001b[0m\u001b[37m\u001b[0m \u001b[1m8s\u001b[0m 133ms/step - accuracy: 0.9997 - loss: 0.0110 - val_accuracy: 1.0000 - val_loss: 0.0127\n"
          ]
        },
        {
          "output_type": "execute_result",
          "data": {
            "text/plain": [
              "<keras.src.callbacks.history.History at 0x7f076a72f4f0>"
            ]
          },
          "metadata": {},
          "execution_count": 8
        }
      ],
      "source": [
        "# Train the model\n",
        "model.fit(X_train, y_train, epochs=10, validation_data=(X_test, y_test))"
      ]
    },
    {
      "cell_type": "code",
      "execution_count": 9,
      "metadata": {
        "colab": {
          "base_uri": "https://localhost:8080/"
        },
        "id": "7_A93PBU70AX",
        "outputId": "82c51105-f885-4597-cd8a-289021a9d027"
      },
      "outputs": [
        {
          "output_type": "stream",
          "name": "stdout",
          "text": [
            "\u001b[1m19/19\u001b[0m \u001b[32m━━━━━━━━━━━━━━━━━━━━\u001b[0m\u001b[37m\u001b[0m \u001b[1m1s\u001b[0m 29ms/step - accuracy: 1.0000 - loss: 0.0196\n",
            "Test accuracy: 100.00%\n"
          ]
        }
      ],
      "source": [
        "loss, accuracy = model.evaluate(X_test, y_test)\n",
        "print(f'Test accuracy: {accuracy * 100:.2f}%')"
      ]
    },
    {
      "cell_type": "code",
      "source": [
        "prediction = model.predict(testing_data)\n",
        "\n",
        "# Get the index of the highest probability\n",
        "predicted_class_index = np.argmax(prediction, axis=1)\n",
        "\n",
        "# Decode the prediction to get the class label\n",
        "predicted_class = label_encoder.inverse_transform(predicted_class_index)\n",
        "\n",
        "point = 0\n",
        "for i in range(len(predicted_class)):\n",
        "  if predicted_class[i] == testing_labels[i]:\n",
        "    point+=1\n",
        "print(\"Percentage accuracy:\", point/len(predicted_class)*100)"
      ],
      "metadata": {
        "colab": {
          "base_uri": "https://localhost:8080/"
        },
        "id": "c6mhengiTppW",
        "outputId": "76c8b1d6-8786-4a71-f665-62f8f9b200b8"
      },
      "execution_count": 10,
      "outputs": [
        {
          "output_type": "stream",
          "name": "stdout",
          "text": [
            "\u001b[1m13/13\u001b[0m \u001b[32m━━━━━━━━━━━━━━━━━━━━\u001b[0m\u001b[37m\u001b[0m \u001b[1m1s\u001b[0m 38ms/step\n",
            "Percentage accuracy: 100.0\n"
          ]
        }
      ]
    },
    {
      "cell_type": "code",
      "source": [
        "conf_matrix = confusion_matrix(testing_labels, predicted_class, labels = np.unique(labels))\n",
        "\n",
        "# Optional: Display the confusion matrix as a formatted table\n",
        "# Convert integer labels back to original string labels\n",
        "conf_matrix_df = pd.DataFrame(\n",
        "    conf_matrix,\n",
        "    index=label_encoder.classes_,  # Rows (True Labels)\n",
        "    columns=label_encoder.classes_  # Columns (Predicted Labels)\n",
        ")\n",
        "\n",
        "# Display the confusion matrix\n",
        "print(\"Confusion Matrix in Table Format:\")\n",
        "print(conf_matrix_df)\n",
        "\n",
        "# Step 5: Visualize the Confusion Matrix (Optional)\n",
        "plt.figure(figsize=(8, 6))\n",
        "ConfusionMatrixDisplay(confusion_matrix=conf_matrix, display_labels=label_encoder.classes_).plot(cmap='Blues')\n",
        "plt.title('Confusion Matrix')\n",
        "plt.show()"
      ],
      "metadata": {
        "colab": {
          "base_uri": "https://localhost:8080/",
          "height": 855
        },
        "id": "lrEOP4ykVn-6",
        "outputId": "7a18434b-e5e6-4273-e664-fd229ed7c638"
      },
      "execution_count": 11,
      "outputs": [
        {
          "output_type": "stream",
          "name": "stdout",
          "text": [
            "Confusion Matrix in Table Format:\n",
            "                   Benzaldehyde  Carvone  Cinnamaldehyde  Ethyl Benzoate  \\\n",
            "Benzaldehyde                 50        0               0               0   \n",
            "Carvone                       0       43               0               0   \n",
            "Cinnamaldehyde                0        0              49               0   \n",
            "Ethyl Benzoate                0        0               0              52   \n",
            "Eugenol                       0        0               0               0   \n",
            "Limonene                      0        0               0               0   \n",
            "Methyl Salicylate             0        0               0               0   \n",
            "Trans-anethole                0        0               0               0   \n",
            "\n",
            "                   Eugenol  Limonene  Methyl Salicylate  Trans-anethole   \n",
            "Benzaldehyde             0         0                  0                0  \n",
            "Carvone                  0         0                  0                0  \n",
            "Cinnamaldehyde           0         0                  0                0  \n",
            "Ethyl Benzoate           0         0                  0                0  \n",
            "Eugenol                 62         0                  0                0  \n",
            "Limonene                 0        44                  0                0  \n",
            "Methyl Salicylate        0         0                 52                0  \n",
            "Trans-anethole           0         0                  0               48  \n"
          ]
        },
        {
          "output_type": "display_data",
          "data": {
            "text/plain": [
              "<Figure size 800x600 with 0 Axes>"
            ]
          },
          "metadata": {}
        },
        {
          "output_type": "display_data",
          "data": {
            "text/plain": [
              "<Figure size 640x480 with 2 Axes>"
            ],
            "image/png": "[encoded data removed]"
          },
          "metadata": {}
        }
      ]
    },
    {
      "cell_type": "markdown",
      "metadata": {
        "id": "yJp_4tgB3hbn"
      },
      "source": []
    }
  ],
  "metadata": {
    "colab": {
      "provenance": [],
      "mount_file_id": "1NUhuYmh4KLXT27BcplmvqP-uPgnXYDAZ",
      "authorship_tag": "ABX9TyPN7I9W+phkwWgQYA33awxq",
      "include_colab_link": true
    },
    "kernelspec": {
      "display_name": "Python 3",
      "name": "python3"
    },
    "language_info": {
      "name": "python"
    }
  },
  "nbformat": 4,
  "nbformat_minor": 0
}