{
  "cells": [
    {
      "cell_type": "markdown",
      "metadata": {
        "id": "view-in-github",
        "colab_type": "text"
      },
      "source": [
        "<a href=\"https://colab.research.google.com/github/iProlly/Comchem/blob/main/Oil_ML_Version_2.ipynb\" target=\"_parent\"><img src=\"https://colab.research.google.com/assets/colab-badge.svg\" alt=\"Open In Colab\"/></a>"
      ]
    },
    {
      "cell_type": "code",
      "source": [
        "import pandas as pd\n",
        "import numpy as np\n",
        "import tensorflow as tf\n",
        "from tensorflow.keras.utils import to_categorical\n",
        "from sklearn.model_selection import train_test_split\n",
        "from sklearn.preprocessing import LabelEncoder\n",
        "import os\n",
        "from google.colab import drive\n",
        "from random import randrange\n",
        "from sklearn.metrics import confusion_matrix, ConfusionMatrixDisplay\n",
        "import matplotlib.pyplot as plt\n",
        "import io"
      ],
      "metadata": {
        "id": "uXoxc8ZE6xcb"
      },
      "execution_count": null,
      "outputs": []
    },
    {
      "cell_type": "code",
      "source": [
        "raw = pd.read_csv('/content/IR_Phychem_Nic.csv')\n",
        "\n",
        "testing_number = 400\n",
        "testing_data = []\n",
        "testing_labels = []\n",
        "\n",
        "labels = raw.iloc[:, 0].values\n",
        "data = raw.iloc[:, 1:].values\n",
        "\n",
        "for j in range(testing_number):\n",
        "  random_index = randrange(len(data))\n",
        "  testing_labels.append(labels[random_index])\n",
        "  testing_data.append(data[random_index])\n",
        "  data = np.delete(data, random_index, 0)\n",
        "  labels = np.delete(labels, random_index, 0)\n",
        "\n",
        "testing_data = np.array(testing_data)\n",
        "testing_labels = np.array(testing_labels)\n",
        "\n",
        "# Encode labels\n",
        "label_encoder = LabelEncoder()\n",
        "labels_encoded = label_encoder.fit_transform(labels)\n",
        "labels_categorical = to_categorical(labels_encoded)"
      ],
      "metadata": {
        "id": "AHix-SLGwhSF"
      },
      "execution_count": null,
      "outputs": []
    },
    {
      "cell_type": "code",
      "execution_count": null,
      "metadata": {
        "id": "jk26U8o662HT"
      },
      "outputs": [],
      "source": [
        "# Split the data into training and testing sets\n",
        "X_train, X_test, y_train, y_test = train_test_split(data, labels_categorical, test_size=0.3, random_state=42)\n",
        "X_train = X_train[..., np.newaxis]  # Add channel dimension for CNN\n",
        "X_test = X_test[..., np.newaxis]\n",
        "testing_data = testing_data[..., np.newaxis]"
      ]
    },
    {
      "cell_type": "code",
      "execution_count": null,
      "metadata": {
        "id": "G62XzE3x7dL5",
        "colab": {
          "base_uri": "https://localhost:8080/"
        },
        "outputId": "4d395861-70fd-4957-f3b0-5c13047d4913"
      },
      "outputs": [
        {
          "output_type": "stream",
          "name": "stderr",
          "text": [
            "/usr/local/lib/python3.10/dist-packages/keras/src/layers/convolutional/base_conv.py:107: UserWarning: Do not pass an `input_shape`/`input_dim` argument to a layer. When using Sequential models, prefer using an `Input(shape)` object as the first layer in the model instead.\n",
            "  super().__init__(activity_regularizer=activity_regularizer, **kwargs)\n"
          ]
        }
      ],
      "source": [
        "model = tf.keras.Sequential([\n",
        "    tf.keras.layers.Conv1D(32, kernel_size=3, activation='relu', input_shape=(data.shape[1], 1)),\n",
        "    tf.keras.layers.MaxPooling1D(pool_size=2),\n",
        "    tf.keras.layers.Conv1D(64, kernel_size=3, activation='relu'),\n",
        "    tf.keras.layers.MaxPooling1D(pool_size=2),\n",
        "    tf.keras.layers.Flatten(),\n",
        "    tf.keras.layers.Dense(128, activation='relu'),\n",
        "    tf.keras.layers.Dense(len(label_encoder.classes_), activation='softmax')\n",
        "])\n",
        "\n",
        "model.compile(optimizer='adam', loss='categorical_crossentropy', metrics=['accuracy'])"
      ]
    },
    {
      "cell_type": "code",
      "execution_count": null,
      "metadata": {
        "colab": {
          "base_uri": "https://localhost:8080/"
        },
        "id": "mFAQ3XK07gzt",
        "outputId": "ca512201-aa57-4850-fd2e-f866da8721e4"
      },
      "outputs": [
        {
          "output_type": "stream",
          "name": "stdout",
          "text": [
            "Epoch 1/10\n",
            "\u001b[1m35/35\u001b[0m \u001b[32m━━━━━━━━━━━━━━━━━━━━\u001b[0m\u001b[37m\u001b[0m \u001b[1m7s\u001b[0m 136ms/step - accuracy: 0.2898 - loss: 9271.0654 - val_accuracy: 0.2667 - val_loss: 363.1161\n",
            "Epoch 2/10\n",
            "\u001b[1m35/35\u001b[0m \u001b[32m━━━━━━━━━━━━━━━━━━━━\u001b[0m\u001b[37m\u001b[0m \u001b[1m4s\u001b[0m 106ms/step - accuracy: 0.3493 - loss: 148.1891 - val_accuracy: 0.5417 - val_loss: 13.8394\n",
            "Epoch 3/10\n",
            "\u001b[1m35/35\u001b[0m \u001b[32m━━━━━━━━━━━━━━━━━━━━\u001b[0m\u001b[37m\u001b[0m \u001b[1m4s\u001b[0m 117ms/step - accuracy: 0.5480 - loss: 12.1494 - val_accuracy: 0.4583 - val_loss: 18.9448\n",
            "Epoch 4/10\n",
            "\u001b[1m35/35\u001b[0m \u001b[32m━━━━━━━━━━━━━━━━━━━━\u001b[0m\u001b[37m\u001b[0m \u001b[1m5s\u001b[0m 137ms/step - accuracy: 0.5484 - loss: 15.8568 - val_accuracy: 0.6896 - val_loss: 4.8082\n",
            "Epoch 5/10\n",
            "\u001b[1m35/35\u001b[0m \u001b[32m━━━━━━━━━━━━━━━━━━━━\u001b[0m\u001b[37m\u001b[0m \u001b[1m4s\u001b[0m 107ms/step - accuracy: 0.6454 - loss: 5.8506 - val_accuracy: 0.6313 - val_loss: 4.7872\n",
            "Epoch 6/10\n",
            "\u001b[1m35/35\u001b[0m \u001b[32m━━━━━━━━━━━━━━━━━━━━\u001b[0m\u001b[37m\u001b[0m \u001b[1m4s\u001b[0m 110ms/step - accuracy: 0.6261 - loss: 7.8140 - val_accuracy: 0.5271 - val_loss: 10.9178\n",
            "Epoch 7/10\n",
            "\u001b[1m35/35\u001b[0m \u001b[32m━━━━━━━━━━━━━━━━━━━━\u001b[0m\u001b[37m\u001b[0m \u001b[1m6s\u001b[0m 127ms/step - accuracy: 0.6684 - loss: 4.9714 - val_accuracy: 0.7104 - val_loss: 2.9119\n",
            "Epoch 8/10\n",
            "\u001b[1m35/35\u001b[0m \u001b[32m━━━━━━━━━━━━━━━━━━━━\u001b[0m\u001b[37m\u001b[0m \u001b[1m4s\u001b[0m 108ms/step - accuracy: 0.7495 - loss: 2.0919 - val_accuracy: 0.6792 - val_loss: 3.2933\n",
            "Epoch 9/10\n",
            "\u001b[1m35/35\u001b[0m \u001b[32m━━━━━━━━━━━━━━━━━━━━\u001b[0m\u001b[37m\u001b[0m \u001b[1m4s\u001b[0m 111ms/step - accuracy: 0.8320 - loss: 1.1123 - val_accuracy: 0.7479 - val_loss: 1.9970\n",
            "Epoch 10/10\n",
            "\u001b[1m35/35\u001b[0m \u001b[32m━━━━━━━━━━━━━━━━━━━━\u001b[0m\u001b[37m\u001b[0m \u001b[1m5s\u001b[0m 143ms/step - accuracy: 0.8280 - loss: 1.1264 - val_accuracy: 0.6187 - val_loss: 4.2321\n"
          ]
        },
        {
          "output_type": "execute_result",
          "data": {
            "text/plain": [
              "<keras.src.callbacks.history.History at 0x7fab793db670>"
            ]
          },
          "metadata": {},
          "execution_count": 49
        }
      ],
      "source": [
        "# Train the model\n",
        "model.fit(X_train, y_train, epochs=10, validation_data=(X_test, y_test))"
      ]
    },
    {
      "cell_type": "code",
      "execution_count": null,
      "metadata": {
        "colab": {
          "base_uri": "https://localhost:8080/"
        },
        "id": "7_A93PBU70AX",
        "outputId": "d92eb82f-ed99-4c61-8aa1-59ffe0a7906f"
      },
      "outputs": [
        {
          "output_type": "stream",
          "name": "stdout",
          "text": [
            "\u001b[1m15/15\u001b[0m \u001b[32m━━━━━━━━━━━━━━━━━━━━\u001b[0m\u001b[37m\u001b[0m \u001b[1m0s\u001b[0m 26ms/step - accuracy: 0.6007 - loss: 4.4487\n",
            "Test accuracy: 61.87%\n"
          ]
        }
      ],
      "source": [
        "loss, accuracy = model.evaluate(X_test, y_test)\n",
        "print(f'Test accuracy: {accuracy * 100:.2f}%')"
      ]
    },
    {
      "cell_type": "code",
      "source": [
        "prediction = model.predict(testing_data)\n",
        "\n",
        "# Get the index of the highest probability\n",
        "predicted_class_index = np.argmax(prediction, axis=1)\n",
        "\n",
        "# Decode the prediction to get the class label\n",
        "predicted_class = label_encoder.inverse_transform(predicted_class_index)\n",
        "\n",
        "point = 0\n",
        "for i in range(len(predicted_class)):\n",
        "  if predicted_class[i] == testing_labels[i]:\n",
        "    point+=1\n",
        "print(\"Percentage accuracy:\", point/len(predicted_class)*100)"
      ],
      "metadata": {
        "colab": {
          "base_uri": "https://localhost:8080/"
        },
        "id": "c6mhengiTppW",
        "outputId": "b9f98b0f-813f-46db-8b01-ae07e889ad53"
      },
      "execution_count": null,
      "outputs": [
        {
          "output_type": "stream",
          "name": "stdout",
          "text": [
            "\u001b[1m13/13\u001b[0m \u001b[32m━━━━━━━━━━━━━━━━━━━━\u001b[0m\u001b[37m\u001b[0m \u001b[1m0s\u001b[0m 27ms/step\n",
            "Percentage accuracy: 57.75\n"
          ]
        }
      ]
    },
    {
      "cell_type": "code",
      "source": [
        "conf_matrix = confusion_matrix(testing_labels, predicted_class)\n",
        "\n",
        "# Optional: Display the confusion matrix as a formatted table\n",
        "# Convert integer labels back to original string labels\n",
        "conf_matrix_df = pd.DataFrame(\n",
        "    conf_matrix,\n",
        "    index=label_encoder.classes_,  # Rows (True Labels)\n",
        "    columns=label_encoder.classes_  # Columns (Predicted Labels)\n",
        ")\n",
        "\n",
        "# Display the confusion matrix\n",
        "print(\"Confusion Matrix in Table Format:\")\n",
        "print(conf_matrix_df)\n",
        "\n",
        "# Step 5: Visualize the Confusion Matrix (Optional)\n",
        "plt.figure(figsize=(8, 6))\n",
        "ConfusionMatrixDisplay(confusion_matrix=conf_matrix, display_labels=label_encoder.classes_).plot(cmap='Blues')\n",
        "plt.title('Confusion Matrix')\n",
        "plt.show()"
      ],
      "metadata": {
        "colab": {
          "base_uri": "https://localhost:8080/",
          "height": 600
        },
        "id": "lrEOP4ykVn-6",
        "outputId": "f6ab54d3-435d-44e7-c0d7-14e25d82c87b"
      },
      "execution_count": null,
      "outputs": [
        {
          "output_type": "stream",
          "name": "stdout",
          "text": [
            "Confusion Matrix in Table Format:\n",
            "       'O01'  'O02'  'O03'  'O04'\n",
            "'O01'     38     19     38      0\n",
            "'O02'      0     73     13      0\n",
            "'O03'      0     49     56      1\n",
            "'O04'      0      6     43     64\n"
          ]
        },
        {
          "output_type": "display_data",
          "data": {
            "text/plain": [
              "<Figure size 800x600 with 0 Axes>"
            ]
          },
          "metadata": {}
        },
        {
          "output_type": "display_data",
          "data": {
            "text/plain": [
              "<Figure size 640x480 with 2 Axes>"
            ],
            "image/png": "[encoded data removed]"
          },
          "metadata": {}
        }
      ]
    },
    {
      "cell_type": "markdown",
      "metadata": {
        "id": "yJp_4tgB3hbn"
      },
      "source": []
    }
  ],
  "metadata": {
    "colab": {
      "provenance": [],
      "authorship_tag": "ABX9TyMIU3UlTwSjRNZnguC9LmVi",
      "include_colab_link": true
    },
    "kernelspec": {
      "display_name": "Python 3",
      "name": "python3"
    },
    "language_info": {
      "name": "python"
    }
  },
  "nbformat": 4,
  "nbformat_minor": 0
}