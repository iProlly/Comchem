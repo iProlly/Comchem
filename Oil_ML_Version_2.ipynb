{
  "cells": [
    {
      "cell_type": "markdown",
      "metadata": {
        "id": "view-in-github",
        "colab_type": "text"
      },
      "source": [
        "<a href=\"https://colab.research.google.com/github/iProlly/Comchem/blob/main/Oil_ML_Version_2.ipynb\" target=\"_parent\"><img src=\"https://colab.research.google.com/assets/colab-badge.svg\" alt=\"Open In Colab\"/></a>"
      ]
    },
    {
      "cell_type": "code",
      "source": [
        "import pandas as pd\n",
        "import numpy as np\n",
        "import tensorflow as tf\n",
        "from tensorflow.keras.utils import to_categorical\n",
        "from sklearn.model_selection import train_test_split\n",
        "from sklearn.preprocessing import LabelEncoder\n",
        "import os\n",
        "from google.colab import drive\n",
        "from random import randrange\n",
        "from sklearn.metrics import confusion_matrix, ConfusionMatrixDisplay\n",
        "import matplotlib.pyplot as plt\n",
        "import io"
      ],
      "metadata": {
        "id": "uXoxc8ZE6xcb"
      },
      "execution_count": 1,
      "outputs": []
    },
    {
      "cell_type": "code",
      "source": [
        "raw = pd.read_csv('/content/IR_Orgchem_ATR.csv')\n",
        "\n",
        "testing_number = 400\n",
        "testing_data = []\n",
        "testing_labels = []\n",
        "\n",
        "labels = raw.iloc[:, 0].values\n",
        "data = raw.iloc[:, 1:].values\n",
        "\n",
        "for j in range(testing_number):\n",
        "  random_index = randrange(len(data))\n",
        "  testing_labels.append(labels[random_index])\n",
        "  testing_data.append(data[random_index])\n",
        "  data = np.delete(data, random_index, 0)\n",
        "  labels = np.delete(labels, random_index, 0)\n",
        "\n",
        "testing_data = np.array(testing_data)\n",
        "testing_labels = np.array(testing_labels)\n",
        "\n",
        "# Encode labels\n",
        "label_encoder = LabelEncoder()\n",
        "labels_encoded = label_encoder.fit_transform(labels)\n",
        "labels_categorical = to_categorical(labels_encoded)"
      ],
      "metadata": {
        "id": "AHix-SLGwhSF"
      },
      "execution_count": 2,
      "outputs": []
    },
    {
      "cell_type": "code",
      "execution_count": 3,
      "metadata": {
        "id": "jk26U8o662HT"
      },
      "outputs": [],
      "source": [
        "# Split the data into training and testing sets\n",
        "X_train, X_test, y_train, y_test = train_test_split(data, labels_categorical, test_size=0.3, random_state=42)\n",
        "X_train = X_train[..., np.newaxis]  # Add channel dimension for CNN\n",
        "X_test = X_test[..., np.newaxis]\n",
        "testing_data = testing_data[..., np.newaxis]"
      ]
    },
    {
      "cell_type": "code",
      "execution_count": 4,
      "metadata": {
        "id": "G62XzE3x7dL5",
        "colab": {
          "base_uri": "https://localhost:8080/"
        },
        "outputId": "5ecf8347-98e0-4e2d-8eb4-5d28159ac532"
      },
      "outputs": [
        {
          "output_type": "stream",
          "name": "stderr",
          "text": [
            "/usr/local/lib/python3.10/dist-packages/keras/src/layers/convolutional/base_conv.py:107: UserWarning: Do not pass an `input_shape`/`input_dim` argument to a layer. When using Sequential models, prefer using an `Input(shape)` object as the first layer in the model instead.\n",
            "  super().__init__(activity_regularizer=activity_regularizer, **kwargs)\n"
          ]
        }
      ],
      "source": [
        "model = tf.keras.Sequential([\n",
        "    tf.keras.layers.Conv1D(32, kernel_size=3, activation='relu', input_shape=(data.shape[1], 1)),\n",
        "    tf.keras.layers.MaxPooling1D(pool_size=2),\n",
        "    tf.keras.layers.Conv1D(64, kernel_size=3, activation='relu'),\n",
        "    tf.keras.layers.MaxPooling1D(pool_size=2),\n",
        "    tf.keras.layers.Flatten(),\n",
        "    tf.keras.layers.Dense(128, activation='relu'),\n",
        "    tf.keras.layers.Dense(len(label_encoder.classes_), activation='softmax')\n",
        "])\n",
        "\n",
        "model.compile(optimizer='adam', loss='categorical_crossentropy', metrics=['accuracy'])"
      ]
    },
    {
      "cell_type": "code",
      "execution_count": 5,
      "metadata": {
        "colab": {
          "base_uri": "https://localhost:8080/"
        },
        "id": "mFAQ3XK07gzt",
        "outputId": "05eb0b6c-8597-43b4-d815-ef56e9f0621e"
      },
      "outputs": [
        {
          "output_type": "stream",
          "name": "stdout",
          "text": [
            "Epoch 1/10\n",
            "\u001b[1m35/35\u001b[0m \u001b[32m━━━━━━━━━━━━━━━━━━━━\u001b[0m\u001b[37m\u001b[0m \u001b[1m10s\u001b[0m 208ms/step - accuracy: 0.2699 - loss: 7161.0645 - val_accuracy: 0.2271 - val_loss: 108.3147\n",
            "Epoch 2/10\n",
            "\u001b[1m35/35\u001b[0m \u001b[32m━━━━━━━━━━━━━━━━━━━━\u001b[0m\u001b[37m\u001b[0m \u001b[1m6s\u001b[0m 165ms/step - accuracy: 0.3021 - loss: 30.4118 - val_accuracy: 0.4729 - val_loss: 1.4170\n",
            "Epoch 3/10\n",
            "\u001b[1m35/35\u001b[0m \u001b[32m━━━━━━━━━━━━━━━━━━━━\u001b[0m\u001b[37m\u001b[0m \u001b[1m10s\u001b[0m 149ms/step - accuracy: 0.5412 - loss: 1.2519 - val_accuracy: 0.5521 - val_loss: 0.9859\n",
            "Epoch 4/10\n",
            "\u001b[1m35/35\u001b[0m \u001b[32m━━━━━━━━━━━━━━━━━━━━\u001b[0m\u001b[37m\u001b[0m \u001b[1m5s\u001b[0m 154ms/step - accuracy: 0.6822 - loss: 0.7261 - val_accuracy: 0.5688 - val_loss: 0.9646\n",
            "Epoch 5/10\n",
            "\u001b[1m35/35\u001b[0m \u001b[32m━━━━━━━━━━━━━━━━━━━━\u001b[0m\u001b[37m\u001b[0m \u001b[1m4s\u001b[0m 111ms/step - accuracy: 0.7766 - loss: 0.5511 - val_accuracy: 0.5854 - val_loss: 0.9985\n",
            "Epoch 6/10\n",
            "\u001b[1m35/35\u001b[0m \u001b[32m━━━━━━━━━━━━━━━━━━━━\u001b[0m\u001b[37m\u001b[0m \u001b[1m6s\u001b[0m 134ms/step - accuracy: 0.8521 - loss: 0.4079 - val_accuracy: 0.6021 - val_loss: 1.0323\n",
            "Epoch 7/10\n",
            "\u001b[1m35/35\u001b[0m \u001b[32m━━━━━━━━━━━━━━━━━━━━\u001b[0m\u001b[37m\u001b[0m \u001b[1m5s\u001b[0m 129ms/step - accuracy: 0.9035 - loss: 0.3177 - val_accuracy: 0.5979 - val_loss: 1.2253\n",
            "Epoch 8/10\n",
            "\u001b[1m35/35\u001b[0m \u001b[32m━━━━━━━━━━━━━━━━━━━━\u001b[0m\u001b[37m\u001b[0m \u001b[1m4s\u001b[0m 113ms/step - accuracy: 0.9496 - loss: 0.2191 - val_accuracy: 0.5958 - val_loss: 1.1668\n",
            "Epoch 9/10\n",
            "\u001b[1m35/35\u001b[0m \u001b[32m━━━━━━━━━━━━━━━━━━━━\u001b[0m\u001b[37m\u001b[0m \u001b[1m5s\u001b[0m 134ms/step - accuracy: 0.9760 - loss: 0.1578 - val_accuracy: 0.6229 - val_loss: 1.2500\n",
            "Epoch 10/10\n",
            "\u001b[1m35/35\u001b[0m \u001b[32m━━━━━━━━━━━━━━━━━━━━\u001b[0m\u001b[37m\u001b[0m \u001b[1m5s\u001b[0m 134ms/step - accuracy: 0.9912 - loss: 0.0863 - val_accuracy: 0.6146 - val_loss: 1.3960\n"
          ]
        },
        {
          "output_type": "execute_result",
          "data": {
            "text/plain": [
              "<keras.src.callbacks.history.History at 0x7f8c474e0cd0>"
            ]
          },
          "metadata": {},
          "execution_count": 5
        }
      ],
      "source": [
        "# Train the model\n",
        "model.fit(X_train, y_train, epochs=10, validation_data=(X_test, y_test))"
      ]
    },
    {
      "cell_type": "code",
      "execution_count": 6,
      "metadata": {
        "colab": {
          "base_uri": "https://localhost:8080/"
        },
        "id": "7_A93PBU70AX",
        "outputId": "ac688c59-462a-408d-ef76-9faf1b282fc5"
      },
      "outputs": [
        {
          "output_type": "stream",
          "name": "stdout",
          "text": [
            "\u001b[1m15/15\u001b[0m \u001b[32m━━━━━━━━━━━━━━━━━━━━\u001b[0m\u001b[37m\u001b[0m \u001b[1m0s\u001b[0m 24ms/step - accuracy: 0.6312 - loss: 1.3390\n",
            "Test accuracy: 61.46%\n"
          ]
        }
      ],
      "source": [
        "loss, accuracy = model.evaluate(X_test, y_test)\n",
        "print(f'Test accuracy: {accuracy * 100:.2f}%')"
      ]
    },
    {
      "cell_type": "code",
      "source": [
        "prediction = model.predict(testing_data)\n",
        "\n",
        "# Get the index of the highest probability\n",
        "predicted_class_index = np.argmax(prediction, axis=1)\n",
        "\n",
        "# Decode the prediction to get the class label\n",
        "predicted_class = label_encoder.inverse_transform(predicted_class_index)\n",
        "\n",
        "point = 0\n",
        "for i in range(len(predicted_class)):\n",
        "  if predicted_class[i] == testing_labels[i]:\n",
        "    point+=1\n",
        "print(\"Percentage accuracy:\", point/len(predicted_class)*100)"
      ],
      "metadata": {
        "colab": {
          "base_uri": "https://localhost:8080/"
        },
        "id": "c6mhengiTppW",
        "outputId": "6ee45809-f573-4f9b-8ac4-dfcda2d09997"
      },
      "execution_count": 7,
      "outputs": [
        {
          "output_type": "stream",
          "name": "stdout",
          "text": [
            "\u001b[1m13/13\u001b[0m \u001b[32m━━━━━━━━━━━━━━━━━━━━\u001b[0m\u001b[37m\u001b[0m \u001b[1m0s\u001b[0m 28ms/step\n",
            "Percentage accuracy: 61.5\n"
          ]
        }
      ]
    },
    {
      "cell_type": "code",
      "source": [
        "conf_matrix = confusion_matrix(testing_labels, predicted_class, labels=np.unique(labels))\n",
        "\n",
        "# Optional: Display the confusion matrix as a formatted table\n",
        "# Convert integer labels back to original string labels\n",
        "conf_matrix_df = pd.DataFrame(\n",
        "    conf_matrix,\n",
        "    index=label_encoder.classes_,  # Rows (True Labels)\n",
        "    columns=label_encoder.classes_  # Columns (Predicted Labels)\n",
        ")\n",
        "\n",
        "# Display the confusion matrix\n",
        "print(\"Confusion Matrix in Table Format:\")\n",
        "print(conf_matrix_df)\n",
        "\n",
        "# Step 5: Visualize the Confusion Matrix (Optional)\n",
        "plt.figure(figsize=(8, 6))\n",
        "ConfusionMatrixDisplay(confusion_matrix=conf_matrix, display_labels=label_encoder.classes_).plot(cmap='Blues')\n",
        "plt.title('Confusion Matrix')\n",
        "plt.show()"
      ],
      "metadata": {
        "colab": {
          "base_uri": "https://localhost:8080/",
          "height": 600
        },
        "id": "lrEOP4ykVn-6",
        "outputId": "f35ecf11-f948-425a-a0f9-899f8fef7fdf"
      },
      "execution_count": 8,
      "outputs": [
        {
          "output_type": "stream",
          "name": "stdout",
          "text": [
            "Confusion Matrix in Table Format:\n",
            "       'O01'  'O02'  'O03'  'O04'\n",
            "'O01'     91     20      0      0\n",
            "'O02'     25     58     12     10\n",
            "'O03'      0      3     57     25\n",
            "'O04'      0      4     55     40\n"
          ]
        },
        {
          "output_type": "display_data",
          "data": {
            "text/plain": [
              "<Figure size 800x600 with 0 Axes>"
            ]
          },
          "metadata": {}
        },
        {
          "output_type": "display_data",
          "data": {
            "text/plain": [
              "<Figure size 640x480 with 2 Axes>"
            ],
            "image/png": "[encoded data removed]"
          },
          "metadata": {}
        }
      ]
    },
    {
      "cell_type": "markdown",
      "metadata": {
        "id": "yJp_4tgB3hbn"
      },
      "source": []
    }
  ],
  "metadata": {
    "colab": {
      "provenance": [],
      "authorship_tag": "ABX9TyOkNLOmPalQ8saq/YShhon5",
      "include_colab_link": true
    },
    "kernelspec": {
      "display_name": "Python 3",
      "name": "python3"
    },
    "language_info": {
      "name": "python"
    }
  },
  "nbformat": 4,
  "nbformat_minor": 0
}