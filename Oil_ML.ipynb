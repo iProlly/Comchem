{
  "cells": [
    {
      "cell_type": "markdown",
      "metadata": {
        "id": "view-in-github",
        "colab_type": "text"
      },
      "source": [
        "<a href=\"https://colab.research.google.com/github/iProlly/Comchem/blob/main/Oil_ML.ipynb\" target=\"_parent\"><img src=\"https://colab.research.google.com/assets/colab-badge.svg\" alt=\"Open In Colab\"/></a>"
      ]
    },
    {
      "cell_type": "code",
      "source": [
        "import pandas as pd\n",
        "import numpy as np\n",
        "import tensorflow as tf\n",
        "from tensorflow.keras.utils import to_categorical\n",
        "from sklearn.model_selection import train_test_split\n",
        "from sklearn.preprocessing import LabelEncoder\n",
        "import os\n",
        "from google.colab import drive\n",
        "from random import randrange\n",
        "from sklearn.metrics import confusion_matrix, ConfusionMatrixDisplay\n",
        "import matplotlib.pyplot as plt"
      ],
      "metadata": {
        "id": "uXoxc8ZE6xcb"
      },
      "execution_count": null,
      "outputs": []
    },
    {
      "cell_type": "code",
      "source": [
        "def augment_data_all(X, num_new_samples, noise_std=0.05):\n",
        "    n_samples = len(X)\n",
        "    X_augmented = []\n",
        "\n",
        "    for _ in range(num_new_samples):\n",
        "        # Generate random coefficients for all samples\n",
        "        coefficients = np.random.rand(n_samples)\n",
        "\n",
        "        # Normalize coefficients to sum to 1\n",
        "        coefficients /= np.sum(coefficients)\n",
        "\n",
        "        # Create the new sample as a weighted sum of all samples\n",
        "        new_sample = np.sum(coefficients[:, np.newaxis] * X, axis=0)\n",
        "\n",
        "        noise = np.random.normal(0, noise_std * (new_sample.max() - new_sample.min()), new_sample.shape)\n",
        "        new_sample += noise\n",
        "\n",
        "        # Renormalize to range [0, 10000]\n",
        "        new_sample = 10000 * (new_sample - new_sample.min()) / (new_sample.max() - new_sample.min())\n",
        "\n",
        "        X_augmented.append(new_sample)\n",
        "\n",
        "    return X_augmented"
      ],
      "metadata": {
        "id": "JioQDZDsJ-8o"
      },
      "execution_count": null,
      "outputs": []
    },
    {
      "cell_type": "code",
      "execution_count": null,
      "metadata": {
        "id": "v8S0XcCZ24HD"
      },
      "outputs": [],
      "source": [
        "def extract_label(filename):\n",
        "    return filename[:3]\n",
        "\n",
        "testing_number = 400\n",
        "data = []\n",
        "labels = []\n",
        "testing_data = []\n",
        "testing_labels = []\n",
        "\n",
        "for i in range(4):\n",
        "  data_dir = data_dir = '/content/PhyB/Sample' + str(i+1)\n",
        "  data_temp = []\n",
        "  labels_temp = []\n",
        "  for filename in os.listdir(data_dir):\n",
        "    if filename.endswith('.csv'):\n",
        "        file_path = os.path.join(data_dir, filename)\n",
        "        df = pd.read_csv(file_path)\n",
        "        intensities = df['Normalized Transmittance'].values\n",
        "\n",
        "        data_temp.append(intensities)\n",
        "        labels_temp.append(extract_label(filename))\n",
        "\n",
        "  data_augmented = augment_data_all(data_temp, 594)\n",
        "  data_temp.extend(data_augmented)\n",
        "  labels_temp.extend(labels_temp[:1]*len(data_augmented))\n",
        "\n",
        "  data.extend(data_temp)\n",
        "  labels.extend(labels_temp)\n",
        "\n",
        "for j in range(testing_number):\n",
        "  random_index = randrange(len(data))\n",
        "  testing_labels.append(labels[random_index])\n",
        "  testing_data.append(data[random_index])\n",
        "  data.pop(random_index)\n",
        "  labels.pop(random_index)\n",
        "\n",
        "testing_data = np.array(testing_data)\n",
        "data = np.array(data)\n",
        "labels = np.array(labels)\n",
        "\n",
        "# Encode labels\n",
        "label_encoder = LabelEncoder()\n",
        "labels_encoded = label_encoder.fit_transform(labels)\n",
        "labels_categorical = to_categorical(labels_encoded)"
      ]
    },
    {
      "cell_type": "code",
      "source": [
        "labels.size"
      ],
      "metadata": {
        "colab": {
          "base_uri": "https://localhost:8080/"
        },
        "id": "RPQvIARnMlZy",
        "outputId": "bfb870f3-9bee-4ca3-b306-40d2802223db"
      },
      "execution_count": null,
      "outputs": [
        {
          "output_type": "execute_result",
          "data": {
            "text/plain": [
              "2000"
            ]
          },
          "metadata": {},
          "execution_count": 47
        }
      ]
    },
    {
      "cell_type": "code",
      "execution_count": null,
      "metadata": {
        "id": "jk26U8o662HT"
      },
      "outputs": [],
      "source": [
        "# Split the data into training and testing sets\n",
        "X_train, X_test, y_train, y_test = train_test_split(data, labels_categorical, test_size=0.3, random_state=42)\n",
        "X_train = X_train[..., np.newaxis]  # Add channel dimension for CNN\n",
        "X_test = X_test[..., np.newaxis]\n",
        "testing_data = testing_data[..., np.newaxis]"
      ]
    },
    {
      "cell_type": "code",
      "execution_count": null,
      "metadata": {
        "id": "G62XzE3x7dL5",
        "colab": {
          "base_uri": "https://localhost:8080/"
        },
        "outputId": "a000711e-3768-411b-86fb-a12a2c0917ed"
      },
      "outputs": [
        {
          "output_type": "stream",
          "name": "stderr",
          "text": [
            "/usr/local/lib/python3.10/dist-packages/keras/src/layers/convolutional/base_conv.py:107: UserWarning: Do not pass an `input_shape`/`input_dim` argument to a layer. When using Sequential models, prefer using an `Input(shape)` object as the first layer in the model instead.\n",
            "  super().__init__(activity_regularizer=activity_regularizer, **kwargs)\n"
          ]
        }
      ],
      "source": [
        "model = tf.keras.Sequential([\n",
        "    tf.keras.layers.Conv1D(32, kernel_size=3, activation='relu', input_shape=(data.shape[1], 1)),\n",
        "    tf.keras.layers.MaxPooling1D(pool_size=2),\n",
        "    tf.keras.layers.Conv1D(64, kernel_size=3, activation='relu'),\n",
        "    tf.keras.layers.MaxPooling1D(pool_size=2),\n",
        "    tf.keras.layers.Flatten(),\n",
        "    tf.keras.layers.Dense(128, activation='relu'),\n",
        "    tf.keras.layers.Dense(len(label_encoder.classes_), activation='softmax')\n",
        "])\n",
        "\n",
        "model.compile(optimizer='adam', loss='categorical_crossentropy', metrics=['accuracy'])"
      ]
    },
    {
      "cell_type": "code",
      "execution_count": null,
      "metadata": {
        "colab": {
          "base_uri": "https://localhost:8080/"
        },
        "id": "mFAQ3XK07gzt",
        "outputId": "56215d2b-2c88-4a59-8bb5-daf1f90fda96"
      },
      "outputs": [
        {
          "output_type": "stream",
          "name": "stdout",
          "text": [
            "Epoch 1/10\n",
            "\u001b[1m44/44\u001b[0m \u001b[32m━━━━━━━━━━━━━━━━━━━━\u001b[0m\u001b[37m\u001b[0m \u001b[1m11s\u001b[0m 208ms/step - accuracy: 0.2793 - loss: 9171.2588 - val_accuracy: 0.6050 - val_loss: 2.4091\n",
            "Epoch 2/10\n",
            "\u001b[1m44/44\u001b[0m \u001b[32m━━━━━━━━━━━━━━━━━━━━\u001b[0m\u001b[37m\u001b[0m \u001b[1m7s\u001b[0m 154ms/step - accuracy: 0.6750 - loss: 1.4373 - val_accuracy: 0.7733 - val_loss: 0.7133\n",
            "Epoch 3/10\n",
            "\u001b[1m44/44\u001b[0m \u001b[32m━━━━━━━━━━━━━━━━━━━━\u001b[0m\u001b[37m\u001b[0m \u001b[1m10s\u001b[0m 150ms/step - accuracy: 0.9055 - loss: 0.2904 - val_accuracy: 0.7683 - val_loss: 0.6945\n",
            "Epoch 4/10\n",
            "\u001b[1m44/44\u001b[0m \u001b[32m━━━━━━━━━━━━━━━━━━━━\u001b[0m\u001b[37m\u001b[0m \u001b[1m11s\u001b[0m 170ms/step - accuracy: 0.9773 - loss: 0.0886 - val_accuracy: 0.8183 - val_loss: 0.6370\n",
            "Epoch 5/10\n",
            "\u001b[1m44/44\u001b[0m \u001b[32m━━━━━━━━━━━━━━━━━━━━\u001b[0m\u001b[37m\u001b[0m \u001b[1m11s\u001b[0m 188ms/step - accuracy: 0.9957 - loss: 0.0152 - val_accuracy: 0.7950 - val_loss: 0.6642\n",
            "Epoch 6/10\n",
            "\u001b[1m44/44\u001b[0m \u001b[32m━━━━━━━━━━━━━━━━━━━━\u001b[0m\u001b[37m\u001b[0m \u001b[1m9s\u001b[0m 161ms/step - accuracy: 0.9965 - loss: 0.0179 - val_accuracy: 0.8017 - val_loss: 0.6544\n",
            "Epoch 7/10\n",
            "\u001b[1m44/44\u001b[0m \u001b[32m━━━━━━━━━━━━━━━━━━━━\u001b[0m\u001b[37m\u001b[0m \u001b[1m10s\u001b[0m 152ms/step - accuracy: 0.9965 - loss: 0.0077 - val_accuracy: 0.8283 - val_loss: 0.7280\n",
            "Epoch 8/10\n",
            "\u001b[1m44/44\u001b[0m \u001b[32m━━━━━━━━━━━━━━━━━━━━\u001b[0m\u001b[37m\u001b[0m \u001b[1m10s\u001b[0m 153ms/step - accuracy: 0.9970 - loss: 0.0104 - val_accuracy: 0.8317 - val_loss: 0.6636\n",
            "Epoch 9/10\n",
            "\u001b[1m44/44\u001b[0m \u001b[32m━━━━━━━━━━━━━━━━━━━━\u001b[0m\u001b[37m\u001b[0m \u001b[1m12s\u001b[0m 189ms/step - accuracy: 0.9949 - loss: 0.0105 - val_accuracy: 0.8350 - val_loss: 0.6864\n",
            "Epoch 10/10\n",
            "\u001b[1m44/44\u001b[0m \u001b[32m━━━━━━━━━━━━━━━━━━━━\u001b[0m\u001b[37m\u001b[0m \u001b[1m10s\u001b[0m 187ms/step - accuracy: 0.9998 - loss: 0.0013 - val_accuracy: 0.8333 - val_loss: 0.7081\n"
          ]
        },
        {
          "output_type": "execute_result",
          "data": {
            "text/plain": [
              "<keras.src.callbacks.history.History at 0x7b7497b4f550>"
            ]
          },
          "metadata": {},
          "execution_count": 50
        }
      ],
      "source": [
        "# Train the model\n",
        "model.fit(X_train, y_train, epochs=10, validation_data=(X_test, y_test))"
      ]
    },
    {
      "cell_type": "code",
      "execution_count": null,
      "metadata": {
        "colab": {
          "base_uri": "https://localhost:8080/"
        },
        "id": "7_A93PBU70AX",
        "outputId": "c2fee522-7fbb-4c0c-d408-1c15a646ff50"
      },
      "outputs": [
        {
          "output_type": "stream",
          "name": "stdout",
          "text": [
            "\u001b[1m19/19\u001b[0m \u001b[32m━━━━━━━━━━━━━━━━━━━━\u001b[0m\u001b[37m\u001b[0m \u001b[1m1s\u001b[0m 36ms/step - accuracy: 0.8407 - loss: 0.6908\n",
            "Test accuracy: 83.33%\n"
          ]
        }
      ],
      "source": [
        "loss, accuracy = model.evaluate(X_test, y_test)\n",
        "print(f'Test accuracy: {accuracy * 100:.2f}%')"
      ]
    },
    {
      "cell_type": "code",
      "source": [
        "prediction = model.predict(testing_data)\n",
        "\n",
        "# Get the index of the highest probability\n",
        "predicted_class_index = np.argmax(prediction, axis=1)\n",
        "\n",
        "# Decode the prediction to get the class label\n",
        "predicted_class = label_encoder.inverse_transform(predicted_class_index)\n",
        "\n",
        "point = 0\n",
        "for i in range(len(predicted_class)):\n",
        "  if predicted_class[i] == testing_labels[i]:\n",
        "    point+=1\n",
        "print(\"Percentage accuracy:\", point/len(predicted_class)*100)"
      ],
      "metadata": {
        "colab": {
          "base_uri": "https://localhost:8080/"
        },
        "id": "c6mhengiTppW",
        "outputId": "918f5b4d-7ccb-4359-f432-30814a569ff1"
      },
      "execution_count": null,
      "outputs": [
        {
          "output_type": "stream",
          "name": "stdout",
          "text": [
            "\u001b[1m13/13\u001b[0m \u001b[32m━━━━━━━━━━━━━━━━━━━━\u001b[0m\u001b[37m\u001b[0m \u001b[1m1s\u001b[0m 36ms/step\n",
            "Percentage accuracy: 84.0\n"
          ]
        }
      ]
    },
    {
      "cell_type": "code",
      "source": [
        "conf_matrix = confusion_matrix(testing_labels, predicted_class)\n",
        "\n",
        "# Optional: Display the confusion matrix as a formatted table\n",
        "# Convert integer labels back to original string labels\n",
        "conf_matrix_df = pd.DataFrame(\n",
        "    conf_matrix,\n",
        "    index=label_encoder.classes_,  # Rows (True Labels)\n",
        "    columns=label_encoder.classes_  # Columns (Predicted Labels)\n",
        ")\n",
        "\n",
        "# Display the confusion matrix\n",
        "print(\"Confusion Matrix in Table Format:\")\n",
        "print(conf_matrix_df)\n",
        "\n",
        "# Step 5: Visualize the Confusion Matrix (Optional)\n",
        "plt.figure(figsize=(8, 6))\n",
        "ConfusionMatrixDisplay(confusion_matrix=conf_matrix, display_labels=label_encoder.classes_).plot(cmap='Blues')\n",
        "plt.title('Confusion Matrix')\n",
        "plt.show()"
      ],
      "metadata": {
        "colab": {
          "base_uri": "https://localhost:8080/",
          "height": 600
        },
        "id": "lrEOP4ykVn-6",
        "outputId": "297ac77a-6d20-4bd8-ec3b-381b9c44e52b"
      },
      "execution_count": null,
      "outputs": [
        {
          "output_type": "stream",
          "name": "stdout",
          "text": [
            "Confusion Matrix in Table Format:\n",
            "     O01  O02  O03  O04\n",
            "O01   94    6   14    0\n",
            "O02    4   82    4    3\n",
            "O03   10    7   79    7\n",
            "O04    0    1    8   81\n"
          ]
        },
        {
          "output_type": "display_data",
          "data": {
            "text/plain": [
              "<Figure size 800x600 with 0 Axes>"
            ]
          },
          "metadata": {}
        },
        {
          "output_type": "display_data",
          "data": {
            "text/plain": [
              "<Figure size 640x480 with 2 Axes>"
            ],
            "image/png": "[encoded data removed]"
          },
          "metadata": {}
        }
      ]
    },
    {
      "cell_type": "markdown",
      "metadata": {
        "id": "yJp_4tgB3hbn"
      },
      "source": []
    }
  ],
  "metadata": {
    "colab": {
      "provenance": [],
      "toc_visible": true,
      "authorship_tag": "ABX9TyMbpB66/0EP+xcdMXxhhvDM",
      "include_colab_link": true
    },
    "kernelspec": {
      "display_name": "Python 3",
      "name": "python3"
    },
    "language_info": {
      "name": "python"
    }
  },
  "nbformat": 4,
  "nbformat_minor": 0
}